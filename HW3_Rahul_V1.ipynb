{
 "cells": [
  {
   "cell_type": "markdown",
   "metadata": {},
   "source": [
    "# HW3: GEOP 592\n",
    "## Submitted on 19 March 2021 by Rahul Jain"
   ]
  },
  {
   "cell_type": "code",
   "execution_count": 13,
   "metadata": {},
   "outputs": [],
   "source": [
    "#Updated link to tutorial\n",
    "#https://www.datarmatics.com/data-science/how-to-perform-logistic-regression-in-pythonstep-by-step/\n",
    "#Applied on HW3 of GEOP 592 KFUPM\n",
    "#features.npy & label.npy are numpy array of earth quake data provided to us. \n",
    "#It should be in the same folder, where this file is."
   ]
  },
  {
   "cell_type": "code",
   "execution_count": 14,
   "metadata": {},
   "outputs": [],
   "source": [
    "#Import the module\n",
    "from sklearn.datasets import make_classification\n",
    "from matplotlib import pyplot as plt\n",
    "from sklearn.linear_model import LogisticRegression\n",
    "from sklearn.model_selection import train_test_split\n",
    "from sklearn.metrics import confusion_matrix\n",
    "import pandas as pd\n",
    "import numpy as np\n",
    "import math"
   ]
  },
  {
   "cell_type": "code",
   "execution_count": 15,
   "metadata": {},
   "outputs": [],
   "source": [
    "label = np.load('label.npy')"
   ]
  },
  {
   "cell_type": "code",
   "execution_count": 16,
   "metadata": {},
   "outputs": [],
   "source": [
    "features = np.load('features.npy')"
   ]
  },
  {
   "cell_type": "code",
   "execution_count": 17,
   "metadata": {},
   "outputs": [],
   "source": [
    "#This was in tutorial to generate data, not required in our homework.\n",
    "# Generate and dataset for Logistic Regression\n",
    "x, y = make_classification(\n",
    "    n_samples=100,\n",
    "    n_features=2,\n",
    "    n_classes=2,\n",
    "    n_clusters_per_class=1,\n",
    "    flip_y=0.03,\n",
    "    n_informative=1,\n",
    "    n_redundant=0,\n",
    "    n_repeated=0\n",
    ")"
   ]
  },
  {
   "cell_type": "code",
   "execution_count": 18,
   "metadata": {},
   "outputs": [
    {
     "data": {
      "image/png": "[encoded data removed]",
      "text/plain": [
       "<Figure size 432x288 with 1 Axes>"
      ]
     },
     "metadata": {
      "needs_background": "light"
     },
     "output_type": "display_data"
    }
   ],
   "source": [
    "#Exploring the data set. Here, plotted 56th column of features \n",
    "#Create a scatter plot\n",
    "plt.scatter(features[:,56], label, c=label, cmap='rainbow')\n",
    "plt.title('Scatter Plot of Logistic Regression')\n",
    "plt.show()"
   ]
  },
  {
   "cell_type": "code",
   "execution_count": 19,
   "metadata": {},
   "outputs": [],
   "source": [
    "# Split the dataset into training and test dataset\n",
    "#As asked in homework to train a logistic regression model on randomly chosen 5500 data points \n",
    "#and then test the performance on the remaining data points.\n",
    "x_train, x_test, y_train, y_test = train_test_split(features, label.ravel(), test_size = 1300, random_state=1)"
   ]
  },
  {
   "cell_type": "code",
   "execution_count": 20,
   "metadata": {},
   "outputs": [
    {
     "data": {
      "text/plain": [
       "LogisticRegression(C=1.0, class_weight=None, dual=False, fit_intercept=True,\n",
       "          intercept_scaling=1, max_iter=1000, multi_class='warn',\n",
       "          n_jobs=None, penalty='l2', random_state=None, solver='lbfgs',\n",
       "          tol=0.0001, verbose=0, warm_start=False)"
      ]
     },
     "execution_count": 20,
     "metadata": {},
     "output_type": "execute_result"
    }
   ],
   "source": [
    "# Create a Logistic Regression Object, perform Logistic Regression\n",
    "log_reg = LogisticRegression(solver = 'lbfgs', max_iter = 1000 )\n",
    "log_reg.fit(x_train, y_train)\n",
    "\n"
   ]
  },
  {
   "cell_type": "markdown",
   "metadata": {},
   "source": [
    "LogisticRegression(C=1.0, class_weight=None, dual=False, fit_intercept=True,\n",
    "          intercept_scaling=1, max_iter=100, multi_class='ovr', n_jobs=1,\n",
    "          penalty='l2', random_state=None, solver='liblinear', tol=0.0001,\n",
    "          verbose=0, warm_start=False)"
   ]
  },
  {
   "cell_type": "code",
   "execution_count": 21,
   "metadata": {},
   "outputs": [
    {
     "name": "stdout",
     "output_type": "stream",
     "text": [
      "[[-2.09564292e+00 -8.14864471e-01  3.62859024e-01 -1.68796472e-02\n",
      "   5.99597431e-01 -3.96903005e-02 -4.51824495e-02 -1.08990740e+00\n",
      "  -1.08801443e+00  3.13104294e+00  4.05002747e+00 -2.67018918e+00\n",
      "  -2.96184067e+00 -3.50239918e+00  8.60259345e-01 -2.43948931e+00\n",
      "  -1.01795180e+00  1.25671713e-01 -1.77276608e+00  4.03521368e-01\n",
      "   3.85757579e-01 -2.31282892e+00  7.46226769e-01  1.59472447e+00\n",
      "   1.20474020e+00 -1.58985682e+00  1.52015571e+00 -5.63063868e-01\n",
      "  -2.77264409e-01 -4.28689442e-04 -2.89240625e-01 -4.06063029e-01\n",
      "  -1.65559225e-01 -2.56312932e-01 -1.76464305e-01 -2.54875084e-03\n",
      "   6.28144342e-02 -7.61499049e-02 -3.85675628e-02 -1.01617418e-01\n",
      "  -1.06281366e-01 -1.30561909e-01 -1.54042406e-01 -3.21554413e-06\n",
      "   1.11975221e-02  1.41477736e-03 -7.50729254e-03  5.94055018e-01\n",
      "  -2.27200699e-01  1.35363832e+00 -2.48016477e-01 -2.15575018e-01\n",
      "  -2.02817137e-01 -2.01318092e-01 -1.88428759e-01 -1.63499780e-01\n",
      "  -1.70520078e-01 -1.61974465e-01 -2.08056727e-01 -1.66526810e-01\n",
      "  -2.42182727e-01 -2.06564067e-01 -1.03741150e-01 -1.37736704e-01\n",
      "  -1.14999079e-01 -1.26358975e-01 -1.32732303e-01 -9.80452672e-02\n",
      "  -1.18416412e-01 -9.41553307e-02 -7.69259862e-02 -8.33404736e-02\n",
      "  -7.20089847e-02 -6.41501524e-02 -5.82721582e-02 -4.40786897e-02\n",
      "  -5.09173574e-02 -3.75782104e-02 -3.13619403e-02 -2.50645638e-02\n",
      "  -1.88094359e-02 -1.27176618e-02 -6.40794121e-03 -4.09541701e-04\n",
      "   5.23214446e-03  1.13515069e-02  1.70430218e-02  2.27675090e-02\n",
      "   2.83442123e-02  3.38496532e-02  3.93178236e-02  4.46271261e-02\n",
      "   4.98583568e-02  5.50515721e-02  6.00953201e-02  6.50479702e-02\n",
      "  -9.64663240e-03 -3.21554413e-06 -1.35110233e-01 -2.84786769e-06]]\n",
      "[8.63190235]\n"
     ]
    }
   ],
   "source": [
    "# Show to Coeficient and Intercept\n",
    "print(log_reg.coef_)\n",
    "print(log_reg.intercept_)\n"
   ]
  },
  {
   "cell_type": "code",
   "execution_count": 22,
   "metadata": {},
   "outputs": [],
   "source": [
    "# Perform prediction using the test dataset\n",
    "y_pred = log_reg.predict(x_test)"
   ]
  },
  {
   "cell_type": "code",
   "execution_count": 23,
   "metadata": {},
   "outputs": [
    {
     "data": {
      "text/plain": [
       "array([[878,  16],\n",
       "       [  4, 402]], dtype=int64)"
      ]
     },
     "execution_count": 23,
     "metadata": {},
     "output_type": "execute_result"
    }
   ],
   "source": [
    "# Show the Confusion Matrix\n",
    "confusion_matrix(y_test, y_pred)"
   ]
  },
  {
   "cell_type": "code",
   "execution_count": 24,
   "metadata": {},
   "outputs": [
    {
     "data": {
      "text/plain": [
       "0.9846153846153847"
      ]
     },
     "execution_count": 24,
     "metadata": {},
     "output_type": "execute_result"
    }
   ],
   "source": [
    "# Show the accuracy of Pridiction\n",
    "from sklearn.metrics import accuracy_score\n",
    "accuracy_score(y_test,y_pred)"
   ]
  },
  {
   "cell_type": "code",
   "execution_count": 25,
   "metadata": {},
   "outputs": [],
   "source": [
    "#For Tanh Function, Line 20 & Line 21 of below link\n",
    "#https://www.kaggle.com/psyhoo/spam-sms-logistic-regression-sigmoid-relu-tanh\n",
    "#Using above reference, LogisticRegression code could be written from scratch.\n",
    "#Also change the data \"label\" from 0 & 1 to -1 & 1 "
   ]
  },
  {
   "cell_type": "code",
   "execution_count": null,
   "metadata": {},
   "outputs": [],
   "source": []
  }
 ],
 "metadata": {
  "kernelspec": {
   "display_name": "Python 3",
   "language": "python",
   "name": "python3"
  },
  "language_info": {
   "codemirror_mode": {
    "name": "ipython",
    "version": 3
   },
   "file_extension": ".py",
   "mimetype": "text/x-python",
   "name": "python",
   "nbconvert_exporter": "python",
   "pygments_lexer": "ipython3",
   "version": "3.7.1"
  }
 },
 "nbformat": 4,
 "nbformat_minor": 2
}
